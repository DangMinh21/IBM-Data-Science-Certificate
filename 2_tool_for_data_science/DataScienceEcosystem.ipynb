{
 "cells": [
  {
   "cell_type": "markdown",
   "id": "6988c482-e180-40e8-91da-aee3709ad326",
   "metadata": {},
   "source": [
    "# Data Science Tools and Ecosystem\n"
   ]
  },
  {
   "cell_type": "markdown",
   "id": "a41ed66f-51e4-48a8-8ffc-d68b9c5e2198",
   "metadata": {},
   "source": [
    "In this notebook, Data Science Tools and Ecosystem are summaried"
   ]
  },
  {
   "cell_type": "markdown",
   "id": "2fc5ec3b-45c8-4e27-97ee-dddc013f2604",
   "metadata": {},
   "source": [
    "**Objectives:**\n",
    "* List popular languages in Data Science\n",
    "* list common libraries in Data Science\n",
    "* List some developmet environments in Data Science\n",
    "* Some arthmetic expressions with Python"
   ]
  },
  {
   "cell_type": "markdown",
   "id": "a04dc9d1-fc70-4c4d-87c9-362226caf169",
   "metadata": {},
   "source": [
    "Some of the popular languages that Data Science uses are:\n",
    "1. R\n",
    "2. Python\n",
    "3. SQL\n",
    "4. C/C++\n"
   ]
  },
  {
   "cell_type": "markdown",
   "id": "afe8bc14-a17d-4b18-900e-e9f1232e9c0c",
   "metadata": {
    "tags": []
   },
   "source": [
    "Some of the commom libraries used by Data Scientists include:\n",
    "1. Numpy\n",
    "2. Pandas\n",
    "3. Matplotlib/Seaborn\n",
    "4. Skikit-learn\n",
    "5. TensorFlow/Pytorch\n",
    "6. NLTK"
   ]
  },
  {
   "cell_type": "markdown",
   "id": "0db4ad2a-181c-469d-8c6a-e8580238f681",
   "metadata": {
    "tags": []
   },
   "source": [
    "| Data Science Tools |\n",
    "|--------------------|\n",
    "| JupyterLab |\n",
    "| VS code |\n",
    "| RStudio |\n",
    "| Pycharm |"
   ]
  },
  {
   "cell_type": "markdown",
   "id": "30e8a4dc-52e0-461f-8358-64bb2749f8e0",
   "metadata": {},
   "source": [
    "### Below are a few examples evaluating arithmetic expression in python "
   ]
  },
  {
   "cell_type": "code",
   "execution_count": 3,
   "id": "6002dfdd-6188-4631-bddf-b6157ba35a0f",
   "metadata": {
    "tags": []
   },
   "outputs": [
    {
     "data": {
      "text/plain": [
       "17"
      ]
     },
     "execution_count": 3,
     "metadata": {},
     "output_type": "execute_result"
    }
   ],
   "source": [
    "# this is a simple arithmetic expression to multiply then add integer\n",
    "(3 * 4) + 5"
   ]
  },
  {
   "cell_type": "code",
   "execution_count": 4,
   "id": "8bd47744-e7ce-417a-8d75-0c4adaae1aa1",
   "metadata": {
    "tags": []
   },
   "outputs": [
    {
     "data": {
      "text/plain": [
       "3.3333333333333335"
      ]
     },
     "execution_count": 4,
     "metadata": {},
     "output_type": "execute_result"
    }
   ],
   "source": [
    "# This will convert 200 minutes to hours by diving by 60\n",
    "200 / 60"
   ]
  },
  {
   "cell_type": "markdown",
   "id": "dbeb68aa-1652-48d3-a303-9681fe5e3c86",
   "metadata": {},
   "source": [
    "## Author\n",
    "Name: Minh Dang Van\n"
   ]
  },
  {
   "cell_type": "code",
   "execution_count": null,
   "id": "38dbe75a-2d07-418a-aada-d716ffee31ba",
   "metadata": {},
   "outputs": [],
   "source": []
  }
 ],
 "metadata": {
  "kernelspec": {
   "display_name": "Python 3 (ipykernel)",
   "language": "python",
   "name": "python3"
  },
  "language_info": {
   "codemirror_mode": {
    "name": "ipython",
    "version": 3
   },
   "file_extension": ".py",
   "mimetype": "text/x-python",
   "name": "python",
   "nbconvert_exporter": "python",
   "pygments_lexer": "ipython3",
   "version": "3.11.4"
  }
 },
 "nbformat": 4,
 "nbformat_minor": 5
}
