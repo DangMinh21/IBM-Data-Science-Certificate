{
 "cells": [
  {
   "cell_type": "markdown",
   "id": "6988c482-e180-40e8-91da-aee3709ad326",
   "metadata": {},
   "source": [
    "# Data Science Tools and Ecosystem\n"
   ]
  },
  {
   "cell_type": "markdown",
   "id": "a41ed66f-51e4-48a8-8ffc-d68b9c5e2198",
   "metadata": {},
   "source": [
    "In this notebook, Data Science Tools and Ecosystem are summaried"
   ]
  },
  {
   "cell_type": "markdown",
   "id": "a04dc9d1-fc70-4c4d-87c9-362226caf169",
   "metadata": {},
   "source": [
    "Some of the popular languages that Data Science uses are:\n",
    "1. R\n",
    "2. Python\n",
    "3. SQL\n",
    "4. C/C++\n"
   ]
  },
  {
   "cell_type": "code",
   "execution_count": null,
   "id": "58fdc64e-6f45-4c6d-bcb1-b054a7c859bb",
   "metadata": {},
   "outputs": [],
   "source": []
  }
 ],
 "metadata": {
  "kernelspec": {
   "display_name": "Python 3 (ipykernel)",
   "language": "python",
   "name": "python3"
  },
  "language_info": {
   "codemirror_mode": {
    "name": "ipython",
    "version": 3
   },
   "file_extension": ".py",
   "mimetype": "text/x-python",
   "name": "python",
   "nbconvert_exporter": "python",
   "pygments_lexer": "ipython3",
   "version": "3.11.4"
  }
 },
 "nbformat": 4,
 "nbformat_minor": 5
}
